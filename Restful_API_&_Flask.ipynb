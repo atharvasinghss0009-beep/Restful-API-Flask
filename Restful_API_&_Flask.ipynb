{
  "nbformat": 4,
  "nbformat_minor": 0,
  "metadata": {
    "colab": {
      "provenance": []
    },
    "kernelspec": {
      "name": "python3",
      "display_name": "Python 3"
    },
    "language_info": {
      "name": "python"
    }
  },
  "cells": [
    {
      "cell_type": "markdown",
      "source": [
        "#theory"
      ],
      "metadata": {
        "id": "3M6J4Gz42Qzd"
      }
    },
    {
      "cell_type": "markdown",
      "source": [
        "1.What is a RESTful API?\n",
        "\n",
        "Ans:A RESTful API is an application programming interface (API) that follows the principles of REST (Representational State Transfer), an architectural style for designing networked applications."
      ],
      "metadata": {
        "id": "1pMvCthU2dYK"
      }
    },
    {
      "cell_type": "markdown",
      "source": [
        "2. Explain the concept of API specification?\n",
        "\n",
        "Ans:An API specification is the blueprint of an API that explains what it does, how to call it, what data it needs, and what it returns.\n",
        "\n",
        "- It defines the rules, structure, and behavior of the API so that developers know how to use it and systems can interact correctly."
      ],
      "metadata": {
        "id": "oNQNLDr_4jGS"
      }
    },
    {
      "cell_type": "markdown",
      "source": [
        "3.What is Flask, and why is it popular for building APIs?\n",
        "\n",
        "Ans:Flask is a lightweight web framework in Python that is widely used to build web applications and APIs. It is called a microframework because it provides only the essential tools needed to create web services, while leaving additional features (like authentication, database integration, form handling, etc.) to external extensions."
      ],
      "metadata": {
        "id": "TNV0KdZk5Cn8"
      }
    },
    {
      "cell_type": "markdown",
      "source": [
        "4.What is routing in Flask?\n",
        "\n",
        "Ans:In Flask, routing refers to the process of mapping a URL (web address) to a specific function in your application."
      ],
      "metadata": {
        "id": "XrLLj1VW5YKZ"
      }
    },
    {
      "cell_type": "markdown",
      "source": [
        "5.How do you create a simple Flask application?\n",
        "\n",
        "Ans:This is the simplest Flask app:\n",
        "\n",
        "- Flask(__name__) initializes the app.\n",
        "- @app.route(\"/\") defines the URL route.\n",
        "- app.run(debug=True) starts a local development server."
      ],
      "metadata": {
        "id": "1oIxdxHJ5n6R"
      }
    },
    {
      "cell_type": "markdown",
      "source": [
        "6.What are HTTP methods used in RESTful APIs?\n",
        "\n",
        "Ans:In RESTful APIs, HTTP methods (also called verbs) define the type of action the client wants to perform on a resource. The most commonly used methods are:\n",
        "\n",
        "1.GET – Retrieve data from the server (read-only).\n",
        "\n",
        "Example: GET /users/1 → fetch details of user with ID 1.\n",
        "\n",
        "2.POST – Create a new resource on the server.\n",
        "\n",
        "Example: POST /users → create a new user.\n",
        "\n",
        "3.PUT – Update/replace an existing resource completely.\n",
        "\n",
        "Example: PUT /users/1 → replace all details of user with ID 1.\n",
        "\n",
        "4.PATCH – Partially update an existing resource.\n",
        "\n",
        "Example: PATCH /users/1 → update only specific fields of user 1.\n",
        "\n",
        "5.DELETE – Remove a resource from the server.\n",
        "\n",
        "Example: DELETE /users/1 → delete user with ID 1."
      ],
      "metadata": {
        "id": "4jnRhGjE6VdZ"
      }
    },
    {
      "cell_type": "markdown",
      "source": [
        "7.What is the purpose of the @app.route() decorator in Flask?\n",
        "\n",
        "Ans:@app.route() connects a URL to a Python function so that Flask knows what to do when that URL is accessed."
      ],
      "metadata": {
        "id": "Lhh_j7CM7Z4S"
      }
    },
    {
      "cell_type": "markdown",
      "source": [
        "8.What is the difference between GET and POST HTTP methods?\n",
        "\n",
        "Ans:The main differences between GET and POST HTTP methods are:\n",
        "\n",
        "| Feature           | **GET**                                                                               | **POST**                                                                   |\n",
        "| ----------------- | ------------------------------------------------------------------------------------- | -------------------------------------------------------------------------- |\n",
        "| **Purpose**       | Retrieve data from the server.                                                        | Send data to the server (e.g., form submission, file upload).              |\n",
        "| **Data Location** | Data is appended in the URL as query parameters (e.g., `example.com/page?name=John`). | Data is sent in the request body, not visible in the URL.                  |\n",
        "| **Visibility**    | Data is visible in the browser’s URL → less secure.                                   | Data is hidden in the request body → more secure than GET.                 |\n",
        "| **Length Limit**  | Limited (depends on browser/server, usually ~2000 characters).                        | No significant limit (can send large amounts of data).                     |\n",
        "| **Caching**       | Responses can be cached and bookmarked.                                               | Responses are not cached or bookmarked.                                    |\n",
        "| **Idempotency**   | Safe and idempotent (repeated GET requests do not change server state).               | Not idempotent (repeated POST may create/update resources multiple times). |\n",
        "| **Use Case**      | Fetching web pages, search queries, API reads.                                        | Submitting forms, creating resources, uploading files.                     |\n"
      ],
      "metadata": {
        "id": "Ff0yC0q37tcp"
      }
    },
    {
      "cell_type": "markdown",
      "source": [
        "9.How do you handle errors in Flask APIs?\n",
        "\n",
        "Ans:In Flask APIs, error handling is usually done using error handlers, HTTP status codes, and custom responses so that clients get meaningful feedback."
      ],
      "metadata": {
        "id": "dssncJAc7_yq"
      }
    },
    {
      "cell_type": "markdown",
      "source": [
        "10.How do you connect Flask to a SQL database?\n",
        "\n",
        "Anss:Connecting Flask to a SQL database is a common task when building web applications. You typically use SQLAlchemy, which is Flask’s recommended ORM (Object Relational Mapper), or a direct database connector like pymysql for MySQL, psycopg2 for PostgreSQL, or sqlite3 for SQLite. Here's a step-by-step guide using Flask-SQLAlchemy:"
      ],
      "metadata": {
        "id": "1s67T74q8OBI"
      }
    },
    {
      "cell_type": "markdown",
      "source": [
        "11.What is the role of Flask-SQLAlchemy?\n",
        "\n",
        "Ans:Flask-SQLAlchemy is an extension for Flask that simplifies working with databases using SQLAlchemy, which is a powerful Object Relational Mapper (ORM) for Python. Its main role is to bridge Flask and SQLAlchemy, making database operations easier and more Pythonic. Here's a breakdown of its role:"
      ],
      "metadata": {
        "id": "Te1z1eyT8xHg"
      }
    },
    {
      "cell_type": "markdown",
      "source": [
        "12.What are Flask blueprints, and how are they useful?\n",
        "\n",
        "Ans:Flask blueprints are a way to organize a Flask application into smaller, reusable components. They allow you to split your application into distinct modules, each with its own routes, templates, static files, and other resources, while still being part of the same application. Essentially, blueprints are like mini Flask apps that can be registered on the main app."
      ],
      "metadata": {
        "id": "ZhK3BJsS88H4"
      }
    },
    {
      "cell_type": "markdown",
      "source": [
        "13.What is the purpose of Flask's request object?\n",
        "\n",
        "Ans:In Flask, the request object is used to access incoming HTTP request data sent by a client (like a browser, mobile app, or another API). It represents all the information about the request that the server receives."
      ],
      "metadata": {
        "id": "_CrRa1nR9HiP"
      }
    },
    {
      "cell_type": "markdown",
      "source": [
        "14.How do you create a RESTful API endpoint using Flask?\n",
        "\n",
        "Ans:Here’s a concise version of creating a RESTful API endpoint in Flask:"
      ],
      "metadata": {
        "id": "f_Ga_OP19W0f"
      }
    },
    {
      "cell_type": "code",
      "execution_count": null,
      "metadata": {
        "colab": {
          "base_uri": "https://localhost:8080/"
        },
        "id": "PvydTaOs2GEh",
        "outputId": "367a2323-6639-4f1f-e0b7-7117fa688476"
      },
      "outputs": [
        {
          "output_type": "stream",
          "name": "stdout",
          "text": [
            " * Serving Flask app '__main__'\n",
            " * Debug mode: on\n"
          ]
        },
        {
          "output_type": "stream",
          "name": "stderr",
          "text": [
            "INFO:werkzeug:\u001b[31m\u001b[1mWARNING: This is a development server. Do not use it in a production deployment. Use a production WSGI server instead.\u001b[0m\n",
            " * Running on http://127.0.0.1:5000\n",
            "INFO:werkzeug:\u001b[33mPress CTRL+C to quit\u001b[0m\n",
            "INFO:werkzeug: * Restarting with watchdog (inotify)\n"
          ]
        }
      ],
      "source": [
        "from flask import Flask, jsonify, request\n",
        "\n",
        "app = Flask(__name__)\n",
        "\n",
        "users = [{\"id\": 1, \"name\": \"Alice\"}]\n",
        "\n",
        "@app.route('/users', methods=['GET'])\n",
        "def get_users():\n",
        "    return jsonify(users)\n",
        "\n",
        "@app.route('/users', methods=['POST'])\n",
        "def create_user():\n",
        "    data = request.get_json()\n",
        "    new_user = {\"id\": len(users)+1, \"name\": data[\"name\"]}\n",
        "    users.append(new_user)\n",
        "    return jsonify(new_user), 201\n",
        "\n",
        "if __name__ == '__main__':\n",
        "    app.run(debug=True)\n"
      ]
    },
    {
      "cell_type": "markdown",
      "source": [
        "Key points:\n",
        "\n",
        "- @app.route defines the endpoint.\n",
        "\n",
        "- methods=['GET','POST'] specifies HTTP methods.\n",
        "\n",
        "- request.get_json() reads input JSON.\n",
        "\n",
        "- jsonify() sends JSON responses."
      ],
      "metadata": {
        "id": "G99BBCLo9xdg"
      }
    },
    {
      "cell_type": "markdown",
      "source": [
        "15.What is the purpose of Flask's jsonify() function?\n",
        "\n",
        "Ans:The purpose of Flask's jsonify() function is to convert Python data structures (like dictionaries or lists) into a JSON-formatted response that can be sent back to the client in a Flask application. It also sets the correct Content-Type header (application/json) automatically, so the client knows it's receiving JSON."
      ],
      "metadata": {
        "id": "rnTTEPdW-Ry4"
      }
    },
    {
      "cell_type": "markdown",
      "source": [
        "16.Explain Flask’s url_for() function.\n",
        "\n",
        "Ans:Flask’s url_for() function is a utility that generates URLs for your application routes dynamically. Instead of hardcoding URLs in your templates or Python code, url_for() helps you reference routes by their function names. This makes your code more maintainable, especially if route URLs change in the future."
      ],
      "metadata": {
        "id": "m4CxVhBTTEkA"
      }
    },
    {
      "cell_type": "markdown",
      "source": [
        "17.How does Flask handle static files (CSS, JavaScript, etc.)?\n",
        "\n",
        "Ans:In Flask, static files like CSS, JavaScript, images, or other assets are handled in a special way to make them easily accessible to your web pages. Here's a clear breakdown:"
      ],
      "metadata": {
        "id": "PYZpGtGdTdex"
      }
    },
    {
      "cell_type": "markdown",
      "source": [
        "18.What is an API specification, and how does it help in building a Flask API?\n",
        "\n",
        "Ans:An API specification is essentially a formal, structured description of how an API behaves. It defines what endpoints exist, what HTTP methods are allowed, the request parameters, the response formats, authentication, and possible error responses. Think of it as a blueprint for both the API developers and the consumers."
      ],
      "metadata": {
        "id": "qFlDMkhsTpwg"
      }
    },
    {
      "cell_type": "markdown",
      "source": [
        "19.What are HTTP status codes, and why are they important in a Flask API?\n",
        "\n",
        "Ans:HTTP status codes are standardized numeric codes sent by a server in response to a client’s request. They indicate the outcome of the request and provide information about whether it was successful, encountered an error, or requires further action."
      ],
      "metadata": {
        "id": "tB6ue_qZT7YX"
      }
    },
    {
      "cell_type": "markdown",
      "source": [
        "20.How do you handle POST requests in Flask?\n",
        "\n",
        "Ans:Handling POST requests in Flask involves defining a route that accepts the POST method and then using the request object to access the data sent by the client."
      ],
      "metadata": {
        "id": "uJg_zzA1UGeg"
      }
    },
    {
      "cell_type": "markdown",
      "source": [
        "21.How would you secure a Flask API?\n",
        "\n",
        "Ans:Securing a Flask API involves multiple layers, depending on the sensitivity of the data and the intended audience. Here’s a thorough breakdown:"
      ],
      "metadata": {
        "id": "tWZad00iUaI5"
      }
    },
    {
      "cell_type": "markdown",
      "source": [
        "22.What is the significance of the Flask-RESTful extension?\n",
        "\n",
        "Ans:Flask-RESTful streamlines REST API development by providing a structured, class-based approach, automatic JSON responses, request parsing, and better HTTP method handling, making your Flask APIs cleaner, more maintainable, and closer to standard REST conventions."
      ],
      "metadata": {
        "id": "c_XGkT7-UjzU"
      }
    },
    {
      "cell_type": "markdown",
      "source": [
        "23.What is the role of Flask’s session object?\n",
        "\n",
        "Ans:Flask’s session object is used to store data specific to a user across multiple requests. It allows you to keep track of information like login status, user preferences, or temporary data without storing it directly in the database for every request."
      ],
      "metadata": {
        "id": "yv49D15-U0_o"
      }
    },
    {
      "cell_type": "markdown",
      "source": [
        "#Practical"
      ],
      "metadata": {
        "id": "ZZnli1TFVHDv"
      }
    },
    {
      "cell_type": "markdown",
      "source": [
        "1.How do you create a basic Flask application?"
      ],
      "metadata": {
        "id": "_UnVIYDrVMCI"
      }
    },
    {
      "cell_type": "code",
      "source": [
        "from flask import Flask\n",
        "\n",
        "app = Flask(__name__)\n",
        "\n",
        "@app.route('/')\n",
        "def home():\n",
        "    return \"Hello, Flask!\"\n",
        "\n",
        "if __name__ == '__main__':\n",
        "    app.run(debug=True)\n"
      ],
      "metadata": {
        "id": "TVsoauj29suc"
      },
      "execution_count": null,
      "outputs": []
    },
    {
      "cell_type": "markdown",
      "source": [
        "2. How do you serve static files like images or CSS in Flask?"
      ],
      "metadata": {
        "id": "3Dnet7goVjjr"
      }
    },
    {
      "cell_type": "code",
      "source": [
        "# app.py\n",
        "from flask import Flask, render_template, url_for\n",
        "\n",
        "app = Flask(__name__)\n",
        "\n",
        "@app.route('/')\n",
        "def index():\n",
        "    return render_template('index.html')\n",
        "\n",
        "if __name__ == '__main__':\n",
        "    app.run(debug=True)"
      ],
      "metadata": {
        "id": "K5iRhnd9ViSm"
      },
      "execution_count": null,
      "outputs": []
    },
    {
      "cell_type": "code",
      "source": [
        "<!-- templates/index.html -->\n",
        "<!DOCTYPE html>\n",
        "<html>\n",
        "<head>\n",
        "    <link rel=\"stylesheet\" href=\"{{ url_for('static', filename='style.css') }}\">\n",
        "</head>\n",
        "<body>\n",
        "    <h1>Flask Static Files</h1>\n",
        "    <img src=\"{{ url_for('static', filename='logo.png') }}\" alt=\"Logo\">\n",
        "</body>\n",
        "</html>"
      ],
      "metadata": {
        "id": "78tvMYHZWCXD"
      },
      "execution_count": null,
      "outputs": []
    },
    {
      "cell_type": "code",
      "source": [
        "# Project structure\n",
        "myapp/\n",
        "│\n",
        "├─ app.py\n",
        "├─ static/\n",
        "│  ├─ style.css\n",
        "│  └─ logo.png\n",
        "└─ templates/\n",
        "   └─ index.html"
      ],
      "metadata": {
        "id": "5Ek4EgumWGMj"
      },
      "execution_count": null,
      "outputs": []
    },
    {
      "cell_type": "markdown",
      "source": [
        "3.How do you define different routes with different HTTP methods in Flask?\n",
        "\n",
        "- In Flask, you can define different routes and associate them with specific HTTP methods using the @app.route() decorator. By default, a route only responds to GET requests, but you can specify other methods like POST, PUT, DELETE, etc., using the methods parameter."
      ],
      "metadata": {
        "id": "2F3N-3fPWL-m"
      }
    },
    {
      "cell_type": "code",
      "source": [
        "from flask import Flask, request\n",
        "\n",
        "app = Flask(__name__)\n",
        "\n",
        "# Route for GET requests\n",
        "@app.route('/hello', methods=['GET'])\n",
        "def hello_get():\n",
        "    return \"Hello via GET!\"\n",
        "\n",
        "# Route for POST requests\n",
        "@app.route('/hello', methods=['POST'])\n",
        "def hello_post():\n",
        "    data = request.json\n",
        "    return f\"Hello via POST! You sent: {data}\"\n",
        "\n",
        "# Route handling multiple HTTP methods\n",
        "@app.route('/hello', methods=['GET', 'POST'])\n",
        "def hello_both():\n",
        "    if request.method == 'POST':\n",
        "        data = request.json\n",
        "        return f\"Hello via POST! You sent: {data}\"\n",
        "    return \"Hello via GET!\"\n",
        "\n",
        "if __name__ == '__main__':\n",
        "    app.run(debug=True)"
      ],
      "metadata": {
        "id": "ViR0LBo0WhHs"
      },
      "execution_count": null,
      "outputs": []
    },
    {
      "cell_type": "markdown",
      "source": [
        "4.How do you render HTML templates in Flask?\n",
        "\n",
        "- In Flask, you can render HTML templates using the render_template() function from the flask module. Flask looks for templates in a folder named templates by default. Here’s a basic example:"
      ],
      "metadata": {
        "id": "CG1EPDpUWpxx"
      }
    },
    {
      "cell_type": "code",
      "source": [
        "from flask import Flask, render_template\n",
        "\n",
        "app = Flask(__name__)\n",
        "\n",
        "@app.route('/')\n",
        "def home():\n",
        "    return render_template('index.html')\n",
        "\n",
        "if __name__ == '__main__':\n",
        "    app.run(debug=True)"
      ],
      "metadata": {
        "id": "j8-HMPK7WJ_t"
      },
      "execution_count": null,
      "outputs": []
    },
    {
      "cell_type": "markdown",
      "source": [
        "5.How can you generate URLs for routes in Flask using url_for?\n",
        "\n",
        "- In Flask, the url_for() function is used to dynamically generate URLs for routes defined in your application. This is preferred over hardcoding URLs because it automatically adapts if your route definitions change. Here’s how it works:"
      ],
      "metadata": {
        "id": "gvf-mPy4XURZ"
      }
    },
    {
      "cell_type": "code",
      "source": [
        "from flask import Flask, url_for"
      ],
      "metadata": {
        "id": "QC8tQoLRXRQx"
      },
      "execution_count": null,
      "outputs": []
    },
    {
      "cell_type": "code",
      "source": [
        "app = Flask(__name__)"
      ],
      "metadata": {
        "id": "3VZkPA5cXuA_"
      },
      "execution_count": null,
      "outputs": []
    },
    {
      "cell_type": "code",
      "source": [
        "@app.route('/')\n",
        "def home():\n",
        "    return \"Home Page\""
      ],
      "metadata": {
        "id": "LVQr4qFtXwbJ"
      },
      "execution_count": null,
      "outputs": []
    },
    {
      "cell_type": "code",
      "source": [
        "@app.route('/about')\n",
        "def about():\n",
        "    return \"About Page\""
      ],
      "metadata": {
        "id": "fyft2VtvX0iL"
      },
      "execution_count": null,
      "outputs": []
    },
    {
      "cell_type": "code",
      "source": [
        "@app.route('/user/<username>')\n",
        "def profile(username):\n",
        "    return f\"User: {username}\""
      ],
      "metadata": {
        "id": "Q3vjtfjUX4Bo"
      },
      "execution_count": null,
      "outputs": []
    },
    {
      "cell_type": "code",
      "source": [
        "with app.test_request_context():\n",
        "    print(url_for('home'))\n",
        "    print(url_for('about'))\n",
        "    print(url_for('profile', username='john'))"
      ],
      "metadata": {
        "id": "TV03QLgbX7fD"
      },
      "execution_count": null,
      "outputs": []
    },
    {
      "cell_type": "markdown",
      "source": [
        "6.How do you handle forms in Flask?\n",
        "\n",
        "- Handling forms in Flask typically involves the following steps: receiving form data from an HTML template, validating it, and then processing it (e.g., storing in a database or performing some action). Here’s a clear breakdown:"
      ],
      "metadata": {
        "id": "fstGYHDoZSVO"
      }
    },
    {
      "cell_type": "code",
      "source": [
        "from flask import Flask, request, render_template, redirect, url_for, flash\n",
        "\n",
        "app = Flask(__name__)\n",
        "app.secret_key = 'your_secret_key'  # Needed for flash messages\n",
        "\n",
        "@app.route('/')\n",
        "def index():\n",
        "    return render_template('form.html')\n",
        "\n",
        "@app.route('/submit', methods=['POST'])\n",
        "def submit():\n",
        "    name = request.form.get('name')\n",
        "    email = request.form.get('email')\n",
        "\n",
        "    if not name or not email:\n",
        "        flash('Please fill out all fields!')\n",
        "        return redirect(url_for('index'))\n",
        "\n",
        "    # Process form data (e.g., save to database)\n",
        "    print(f'Name: {name}, Email: {email}')\n",
        "\n",
        "    flash('Form submitted successfully!')\n",
        "    return redirect(url_for('index'))\n",
        "\n",
        "if __name__ == '__main__':\n",
        "    app.run(debug=True)"
      ],
      "metadata": {
        "id": "4qF_YfeuYQiM"
      },
      "execution_count": null,
      "outputs": []
    },
    {
      "cell_type": "markdown",
      "source": [
        "7.How can you validate form data in Flask?\n",
        "\n",
        "- In Flask, form data validation can be done in a few ways, depending on whether you use plain Flask or an extension like Flask-WTF. Here's a detailed breakdown:"
      ],
      "metadata": {
        "id": "EDAjtpR_ZyJZ"
      }
    },
    {
      "cell_type": "code",
      "source": [
        "# app.py\n",
        "from flask import Flask, render_template, redirect, url_for, flash, request\n",
        "from flask_wtf import FlaskForm\n",
        "from wtforms import StringField, SubmitField\n",
        "from wtforms.validators import DataRequired, Email, Length\n",
        "\n",
        "app = Flask(__name__)\n",
        "app.secret_key = \"secret\"\n",
        "\n",
        "class RegistrationForm(FlaskForm):\n",
        "    username = StringField('Username', validators=[DataRequired(), Length(min=3, max=25)])\n",
        "    email = StringField('Email', validators=[DataRequired(), Email()])\n",
        "    submit = SubmitField('Register')\n",
        "\n",
        "@app.route('/register', methods=['GET', 'POST'])\n",
        "def register():\n",
        "    form = RegistrationForm()\n",
        "    if form.validate_on_submit():\n",
        "        username = form.username.data\n",
        "        email = form.email.data\n",
        "        flash(f\"Welcome, {username}!\")\n",
        "        return redirect(url_for('register'))\n",
        "    return render_template('register.html', form=form)\n",
        "\n",
        "if __name__ == \"__main__\":\n",
        "    app.run(debug=True)\n"
      ],
      "metadata": {
        "id": "WFktDKHMaQwX"
      },
      "execution_count": null,
      "outputs": []
    },
    {
      "cell_type": "code",
      "source": [
        "<!-- templates/register.html -->\n",
        "<form method=\"POST\">\n",
        "    {{ form.hidden_tag() }}\n",
        "    {{ form.username.label }} {{ form.username() }}<br>\n",
        "    {{ form.email.label }} {{ form.email() }}<br>\n",
        "    {{ form.submit() }}\n",
        "</form>\n",
        "\n",
        "{% for message in get_flashed_messages() %}\n",
        "<p>{{ message }}</p>\n",
        "{% endfor %}\n"
      ],
      "metadata": {
        "id": "MWXEOKTQaYVG"
      },
      "execution_count": null,
      "outputs": []
    },
    {
      "cell_type": "markdown",
      "source": [
        "8.How do you manage sessions in Flask?\n",
        "\n",
        "- In Flask, sessions are managed using the session object from flask. You can:"
      ],
      "metadata": {
        "id": "p5HRImtMacWe"
      }
    },
    {
      "cell_type": "markdown",
      "source": [
        "1.Set a secret key for signing session cookies:"
      ],
      "metadata": {
        "id": "s33l4Ix9a1R3"
      }
    },
    {
      "cell_type": "code",
      "source": [
        "app.secret_key = \"your_secret_key\""
      ],
      "metadata": {
        "id": "RCBhJiWLaa0n"
      },
      "execution_count": null,
      "outputs": []
    },
    {
      "cell_type": "markdown",
      "source": [
        "2.app.secret_key = \"your_secret_key\""
      ],
      "metadata": {
        "id": "SX9RanjXa9Hk"
      }
    },
    {
      "cell_type": "code",
      "source": [
        "session['key'] = 'value'"
      ],
      "metadata": {
        "id": "ZAMTt9Kya7_w"
      },
      "execution_count": null,
      "outputs": []
    },
    {
      "cell_type": "markdown",
      "source": [
        "3.Access session data:"
      ],
      "metadata": {
        "id": "YKKnMx-qbDMz"
      }
    },
    {
      "cell_type": "code",
      "source": [
        "value = session.get('key')"
      ],
      "metadata": {
        "id": "uYwVj7FPbClJ"
      },
      "execution_count": null,
      "outputs": []
    },
    {
      "cell_type": "markdown",
      "source": [
        "4.Remove session data:"
      ],
      "metadata": {
        "id": "mxH_OumibKLA"
      }
    },
    {
      "cell_type": "code",
      "source": [
        "session.pop('key', None)  # remove specific key\n",
        "session.clear()            # clear entire session"
      ],
      "metadata": {
        "id": "SgxZLGYDbJcp"
      },
      "execution_count": null,
      "outputs": []
    },
    {
      "cell_type": "markdown",
      "source": [
        "9.How do you redirect to a different route in Flask?\n",
        "\n",
        "- In Flask, you can redirect to a different route using the redirect() function along with url_for() to generate the URL. Here's an example:"
      ],
      "metadata": {
        "id": "PGajiVmcbif0"
      }
    },
    {
      "cell_type": "code",
      "source": [
        "from flask import Flask, redirect, url_for"
      ],
      "metadata": {
        "id": "2_qcLqwfbQgf"
      },
      "execution_count": null,
      "outputs": []
    },
    {
      "cell_type": "code",
      "source": [
        "app = Flask(__name__)"
      ],
      "metadata": {
        "id": "SEpoRI_Wb0JB"
      },
      "execution_count": null,
      "outputs": []
    },
    {
      "cell_type": "code",
      "source": [
        "@app.route('/')\n",
        "def home():\n",
        "    return 'Home Page'"
      ],
      "metadata": {
        "id": "A3tPVfRzb2WH"
      },
      "execution_count": null,
      "outputs": []
    },
    {
      "cell_type": "code",
      "source": [
        "@app.route('/login')\n",
        "def login():\n",
        "    # Redirect to home page after login\n",
        "    return redirect(url_for('home'))"
      ],
      "metadata": {
        "id": "8EnoYrd-b5FP"
      },
      "execution_count": null,
      "outputs": []
    },
    {
      "cell_type": "code",
      "source": [
        "if __name__ == '__main__':\n",
        "    app.run(debug=True)"
      ],
      "metadata": {
        "id": "LY_aJrFBb7d9"
      },
      "execution_count": null,
      "outputs": []
    },
    {
      "cell_type": "markdown",
      "source": [
        "10.How do you handle errors in Flask (e.g., 404)?\n",
        "\n",
        "- In Flask, you handle errors using error handlers. You can define a function that will run when a specific HTTP error occurs, like 404 (Not Found) or 500 (Internal Server Error). Here's how you can do it:"
      ],
      "metadata": {
        "id": "1JfFpdKPb_60"
      }
    },
    {
      "cell_type": "code",
      "source": [
        "from flask import Flask, render_template, jsonify\n"
      ],
      "metadata": {
        "id": "CSJYJUh2b-Ux"
      },
      "execution_count": null,
      "outputs": []
    },
    {
      "cell_type": "code",
      "source": [
        "app = Flask(__name__)"
      ],
      "metadata": {
        "id": "LbsHljgicRPI"
      },
      "execution_count": null,
      "outputs": []
    },
    {
      "cell_type": "code",
      "source": [
        "# Example route\n",
        "@app.route('/')\n",
        "def home():\n",
        "    return \"Welcome to the homepage!\""
      ],
      "metadata": {
        "id": "71Up8n8UcTvn"
      },
      "execution_count": null,
      "outputs": []
    },
    {
      "cell_type": "code",
      "source": [
        "# Handling 404 errors\n",
        "@app.errorhandler(404)\n",
        "def page_not_found(e):\n",
        "    # For HTML response\n",
        "    # return render_template('404.html'), 404\n",
        "\n",
        "    # For JSON response (API)\n",
        "    return jsonify(error=\"Page not found\"), 404"
      ],
      "metadata": {
        "id": "iBmOjxBUcWdW"
      },
      "execution_count": null,
      "outputs": []
    },
    {
      "cell_type": "code",
      "source": [
        "# Handling 500 errors\n",
        "@app.errorhandler(500)\n",
        "def internal_server_error(e):\n",
        "    return jsonify(error=\"Internal server error\"), 500"
      ],
      "metadata": {
        "id": "NVMKGeM8cde8"
      },
      "execution_count": null,
      "outputs": []
    },
    {
      "cell_type": "code",
      "source": [
        "if __name__ == '__main__':\n",
        "    app.run(debug=True)"
      ],
      "metadata": {
        "id": "bV5Ms3Sfcggy"
      },
      "execution_count": null,
      "outputs": []
    },
    {
      "cell_type": "markdown",
      "source": [
        "11.How do you structure a Flask app using Blueprints?\n",
        "\n",
        "- Structuring a Flask app with Blueprints is a clean way to organize a larger application by splitting it into modular components. Here’s a typical approach:"
      ],
      "metadata": {
        "id": "M0nXh814ckNl"
      }
    },
    {
      "cell_type": "code",
      "source": [
        "myapp/\n",
        "│\n",
        "├── app/\n",
        "│   ├── __init__.py\n",
        "│   ├── routes/\n",
        "│   │   ├── __init__.py\n",
        "│   │   ├── auth.py\n",
        "│   │   └── blog.py\n",
        "│   ├── models.py\n",
        "│   └── templates/\n",
        "│       ├── auth/\n",
        "│       └── blog/\n",
        "│\n",
        "├── venv/\n",
        "├── config.py\n",
        "└── run.py\n"
      ],
      "metadata": {
        "id": "LcYbabGGciuK"
      },
      "execution_count": null,
      "outputs": []
    },
    {
      "cell_type": "code",
      "source": [
        "from flask import Blueprint, render_template, redirect, url_for\n",
        "\n",
        "auth_bp = Blueprint('auth', __name__, template_folder='templates')\n",
        "\n",
        "@auth_bp.route('/login')\n",
        "def login():\n",
        "    return render_template('auth/login.html')\n",
        "\n",
        "@auth_bp.route('/logout')\n",
        "def logout():\n",
        "    return redirect(url_for('auth.login'))\n"
      ],
      "metadata": {
        "id": "45ASZOi3c5oS"
      },
      "execution_count": null,
      "outputs": []
    },
    {
      "cell_type": "code",
      "source": [
        "from flask import Blueprint, render_template\n",
        "\n",
        "blog_bp = Blueprint('blog', __name__, template_folder='templates')\n",
        "\n",
        "@blog_bp.route('/')\n",
        "def index():\n",
        "    return render_template('blog/index.html')\n"
      ],
      "metadata": {
        "id": "cmrtjdMCc715"
      },
      "execution_count": null,
      "outputs": []
    },
    {
      "cell_type": "code",
      "source": [
        "from flask import Flask\n",
        "from .routes.auth import auth_bp\n",
        "from .routes.blog import blog_bp\n",
        "\n",
        "def create_app():\n",
        "    app = Flask(__name__)\n",
        "\n",
        "    # Register Blueprints\n",
        "    app.register_blueprint(auth_bp, url_prefix='/auth')\n",
        "    app.register_blueprint(blog_bp, url_prefix='/blog')\n",
        "\n",
        "    return app\n"
      ],
      "metadata": {
        "id": "Vy6dfGf5c-Da"
      },
      "execution_count": null,
      "outputs": []
    },
    {
      "cell_type": "code",
      "source": [
        "from app import create_app\n",
        "\n",
        "app = create_app()\n",
        "\n",
        "if __name__ == \"__main__\":\n",
        "    app.run(debug=True)\n"
      ],
      "metadata": {
        "id": "ds7HrXUEdARJ"
      },
      "execution_count": null,
      "outputs": []
    },
    {
      "cell_type": "markdown",
      "source": [
        "12.How do you define a custom Jinja filter in Flask?\n",
        "\n"
      ],
      "metadata": {
        "id": "88TAsCzYdJaE"
      }
    },
    {
      "cell_type": "code",
      "source": [
        "from flask import Flask\n",
        "\n",
        "app = Flask(__name__)\n",
        "\n",
        "@app.template_filter('reverse')\n",
        "def reverse_string(s):\n",
        "    return s[::-1]"
      ],
      "metadata": {
        "id": "jXW3OLe3dCJB"
      },
      "execution_count": null,
      "outputs": []
    },
    {
      "cell_type": "markdown",
      "source": [
        "13.How can you redirect with query parameters in Flask?"
      ],
      "metadata": {
        "id": "gy5WwZkhdeo3"
      }
    },
    {
      "cell_type": "code",
      "source": [
        "from flask import Flask, redirect, url_for\n",
        "\n",
        "app = Flask(__name__)\n",
        "\n",
        "@app.route('/')\n",
        "def home():\n",
        "    # Redirect to 'search' route with query parameters\n",
        "    return redirect(url_for('search', q='flask', page=2))\n",
        "\n",
        "@app.route('/search')\n",
        "def search():\n",
        "    from flask import request\n",
        "    # Access query parameters\n",
        "    query = request.args.get('q')\n",
        "    page = request.args.get('page')\n",
        "    return f\"Search query: {query}, Page: {page}\"\n",
        "\n",
        "if __name__ == '__main__':\n",
        "    app.run(debug=True)"
      ],
      "metadata": {
        "id": "EmrO5Nacda8h"
      },
      "execution_count": null,
      "outputs": []
    },
    {
      "cell_type": "markdown",
      "source": [
        "14.How do you return JSON responses in Flask?"
      ],
      "metadata": {
        "id": "d2ZGffGkdo8u"
      }
    },
    {
      "cell_type": "code",
      "source": [
        "from flask import Flask, jsonify\n",
        "\n",
        "app = Flask(__name__)\n",
        "\n",
        "@app.route('/data')\n",
        "def get_data():\n",
        "    data = {\n",
        "        \"name\": \"Atharva\",\n",
        "        \"age\": 25,\n",
        "        \"city\": \"Mumbai\"\n",
        "    }\n",
        "    return jsonify(data)\n",
        "\n",
        "if __name__ == '__main__':\n",
        "    app.run(debug=True)"
      ],
      "metadata": {
        "id": "pL-bo2j8dnnm"
      },
      "execution_count": null,
      "outputs": []
    },
    {
      "cell_type": "markdown",
      "source": [
        "15.How do you capture URL parameters in Flask?"
      ],
      "metadata": {
        "id": "BaoiKtF-dzGT"
      }
    },
    {
      "cell_type": "code",
      "source": [
        "from flask import Flask, request\n",
        "\n",
        "app = Flask(__name__)\n",
        "\n",
        "# Route parameters\n",
        "@app.route('/user/<username>')\n",
        "def user(username):\n",
        "    return f\"Username: {username}\"\n",
        "\n",
        "# Query parameters\n",
        "@app.route('/search')\n",
        "def search():\n",
        "    query = request.args.get('q')\n",
        "    return f\"Query: {query}\"\n",
        "\n",
        "if __name__ == '__main__':\n",
        "    app.run(debug=True)"
      ],
      "metadata": {
        "id": "4iZBvP7Rdyg1"
      },
      "execution_count": null,
      "outputs": []
    },
    {
      "cell_type": "code",
      "source": [],
      "metadata": {
        "id": "kbqbMNDKeCrM"
      },
      "execution_count": null,
      "outputs": []
    }
  ]
}